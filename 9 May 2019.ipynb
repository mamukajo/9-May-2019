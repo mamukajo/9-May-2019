{
 "cells": [
  {
   "cell_type": "markdown",
   "metadata": {},
   "source": [
    "# Problem Solving and Programming\n",
    "## Day-11\n",
    "## Date-9 May 2019"
   ]
  },
  {
   "cell_type": "markdown",
   "metadata": {},
   "source": [
    "### Day objectives\n",
    "    *objective 1\n",
    "    *objective 2\n",
    "    *objective 3"
   ]
  },
  {
   "cell_type": "markdown",
   "metadata": {},
   "source": [
    "### Problem 1:\n",
    "\n",
    "#### Problem Statement\n",
    "Given 2 int values, return True if first parameter is negative and second parameter is positive or vice versa. Except if the third parameter \"negative\" is True, then return True only if first two parameters are negative.\n",
    "\n",
    "#### Constraints\n",
    "\n",
    "### Test cases\n",
    "    *pos_neg(1, -1, False) → True\n",
    "    *pos_neg(-1, 1, False) → True\n",
    "    *pos_neg(-4, -5, True) → True\n",
    "    *pos_neg(-1, 1, True) →  False\n",
    "    *pos_neg(1,  6, True) →  False\n",
    "   \n",
    "    "
   ]
  },
  {
   "cell_type": "code",
   "execution_count": 70,
   "metadata": {},
   "outputs": [
    {
     "name": "stdout",
     "output_type": "stream",
     "text": [
      "True\n",
      "False\n",
      "False\n",
      "False\n",
      "False\n"
     ]
    }
   ],
   "source": [
    "\n",
    "\n",
    "def pos_neg(n1, n2, b):\n",
    "    if((n1<0 and n1>0 and b== False) or (n1>0 and n2<0 and b== False)):\n",
    "        return True\n",
    "    else:\n",
    "        return False\n",
    "print(pos_neg(1, -1, False))\n",
    "print(pos_neg(-1, 1, False))\n",
    "print(pos_neg(-4, -5, True))\n",
    "print(pos_neg(-1, 1, True))\n",
    "print(pos_neg(1,  6, True))\n",
    "\n"
   ]
  },
  {
   "cell_type": "code",
   "execution_count": null,
   "metadata": {},
   "outputs": [],
   "source": []
  },
  {
   "cell_type": "markdown",
   "metadata": {},
   "source": [
    "### Problem 2:\n",
    "\n",
    "#### Problem Statement\n",
    "Given 2 ints, a and b, return True if one if them is 10 or if their sum is 10.\n",
    "#### Constraints\n",
    "\n",
    "### Test cases\n",
    "    *makes10(9, 10) → True\n",
    "    *makes10(9, 9) → False\n",
    "    *makes10(1, 9) → True\n",
    "   \n",
    "    "
   ]
  },
  {
   "cell_type": "code",
   "execution_count": 18,
   "metadata": {},
   "outputs": [
    {
     "name": "stdout",
     "output_type": "stream",
     "text": [
      "enter a number5\n",
      "enter a number5\n",
      "True\n"
     ]
    }
   ],
   "source": [
    "\n",
    "a=int(input(\"enter a number\"))\n",
    "b=int(input(\"enter a number\"))\n",
    "def problem(a,b):\n",
    "    if(a==10 or b==10) or (a+b==10):\n",
    "        print(\"True\")\n",
    "    else:\n",
    "        print(\"False\")\n",
    "problem(a,b)"
   ]
  },
  {
   "cell_type": "markdown",
   "metadata": {},
   "source": [
    "### Problem 3:\n",
    "\n",
    "#### Problem Statement\n",
    "Create a Random Number Generator as a Procedure which takes the Range(lb, ub) and returns a Random number in the given range\n",
    "\n",
    "#### Constraints\n",
    "\n",
    "### Test cases\n",
    "    *RandomGenerator(1, 100)"
   ]
  },
  {
   "cell_type": "code",
   "execution_count": 3,
   "metadata": {},
   "outputs": [
    {
     "data": {
      "text/plain": [
       "78"
      ]
     },
     "execution_count": 3,
     "metadata": {},
     "output_type": "execute_result"
    }
   ],
   "source": [
    "import random\n",
    "def randomGenerator(lb,ub):\n",
    "    return random.randrange(lb+1,ub)\n",
    "randomGenerator(1,101)"
   ]
  },
  {
   "cell_type": "code",
   "execution_count": null,
   "metadata": {},
   "outputs": [],
   "source": []
  },
  {
   "cell_type": "markdown",
   "metadata": {},
   "source": [
    "### Problem 4:\n",
    "\n",
    "#### Problem Statement\n",
    "Given an integer N, calculate the sum of N random numbers in the range[0,1000000000000000]\n",
    "#### Constraints\n",
    "\n",
    "### Test cases\n",
    "    *testcase 1\n",
    "    *testcase 2\n",
    "    *testcase 3"
   ]
  },
  {
   "cell_type": "code",
   "execution_count": 6,
   "metadata": {},
   "outputs": [
    {
     "data": {
      "text/plain": [
       "509718607440829515"
      ]
     },
     "execution_count": 6,
     "metadata": {},
     "output_type": "execute_result"
    }
   ],
   "source": [
    "import random\n",
    "def sumRandomGenerator(n,lb,ub):\n",
    "    sum=0\n",
    "    for count in range(1,n+1):\n",
    "        sum=sum+random.randint(lb,ub)\n",
    "    return sum\n",
    "sumRandomGenerator(100,0,10000000000000000)"
   ]
  },
  {
   "cell_type": "code",
   "execution_count": null,
   "metadata": {},
   "outputs": [],
   "source": []
  },
  {
   "cell_type": "markdown",
   "metadata": {},
   "source": [
    "### Problem 5:\n",
    "\n",
    "#### Problem Statement\n",
    "Design a procedure to perform Linear search on list of N unsorted unique numbers. It take an array and the key element to be searched and returns the index of the element of key element if found. Else returns -1\n",
    "\n",
    "#### Constraints\n",
    "\n",
    "### Test cases\n",
    "    *LinearSearch([1,4,8,0,3,5,6],3)-->4\n",
    "    *LinearSearch([15,12,9,3,-3],0)-->-1\n",
    "    *LinearSearch([321,543,567,789],567)-->2"
   ]
  },
  {
   "cell_type": "code",
   "execution_count": 13,
   "metadata": {},
   "outputs": [
    {
     "name": "stdout",
     "output_type": "stream",
     "text": [
      "4\n",
      "-1\n",
      "2\n"
     ]
    }
   ],
   "source": [
    "a=[1,4,8,0,3,5,6]\n",
    "def linearSearch(a,key):\n",
    "    for i in range(0,len(a)):\n",
    "        if(a[i]==key):\n",
    "            return i\n",
    "    return -1\n",
    "print(linearSearch([1,4,8,0,3,5,6],3))\n",
    "print(linearSearch([15,12,9,3,-3],0))\n",
    "print(linearSearch([321,543,567,789],567))"
   ]
  },
  {
   "cell_type": "code",
   "execution_count": null,
   "metadata": {},
   "outputs": [],
   "source": []
  },
  {
   "cell_type": "markdown",
   "metadata": {},
   "source": [
    "### Problem 6:\n",
    "\n",
    "#### Problem Statement\n",
    "Design a procedure to determine if a given string is a Palindrome\n",
    "\n",
    "#### Constraints\n",
    "\n",
    "### Test cases\n",
    "    *Palindrome(\"racecar\") -> True\n",
    "    *Palindrome(\"raptor\") -> False"
   ]
  },
  {
   "cell_type": "code",
   "execution_count": 56,
   "metadata": {},
   "outputs": [
    {
     "name": "stdout",
     "output_type": "stream",
     "text": [
      "enter a wordmadam\n"
     ]
    },
    {
     "data": {
      "text/plain": [
       "True"
      ]
     },
     "execution_count": 56,
     "metadata": {},
     "output_type": "execute_result"
    }
   ],
   "source": [
    "a=input(\"enter a word\")\n",
    "def reverse(a):\n",
    "    return a[::-1]\n",
    "def palindrome(a):\n",
    "    if(a==reverse(a)):\n",
    "        return True        \n",
    "    else:\n",
    "        return False\n",
    "palindrome(a)"
   ]
  },
  {
   "cell_type": "code",
   "execution_count": null,
   "metadata": {},
   "outputs": [],
   "source": []
  },
  {
   "cell_type": "markdown",
   "metadata": {},
   "source": [
    "### Problem 7:\n",
    "\n",
    "#### Problem Statement\n",
    "Design a procedure calculate the maximum, minimum and average of N numbers\n",
    "\n",
    "#### Constraints\n",
    "\n",
    "### Test cases\n",
    "    *data( a[1,2,3,4,5] ) -> Max = 5, Min = 1, Avg = 3\n",
    "   "
   ]
  },
  {
   "cell_type": "code",
   "execution_count": 63,
   "metadata": {},
   "outputs": [
    {
     "name": "stdout",
     "output_type": "stream",
     "text": [
      "3.0\n",
      "5\n",
      "1\n"
     ]
    }
   ],
   "source": [
    "a=[1,2,3,4,5]\n",
    "sum=0\n",
    "for i in range(0,len(a)):\n",
    "    sum=sum+a[i]\n",
    "avg=sum/len(a)\n",
    "print(avg)\n",
    "print(max(a))\n",
    "print(min(a))\n",
    "    \n",
    "    \n",
    "    "
   ]
  },
  {
   "cell_type": "code",
   "execution_count": null,
   "metadata": {},
   "outputs": [],
   "source": []
  },
  {
   "cell_type": "markdown",
   "metadata": {},
   "source": [
    "### Problem 8:\n",
    "\n",
    "#### Problem Statement\n",
    "Design a procedure to calculate the squareroot of a number \"without using the math function sqrt\".\n",
    "\n",
    "#### Constraints\n",
    "\n",
    "### Test cases\n",
    "    *Squareroot(36) -> 6"
   ]
  },
  {
   "cell_type": "code",
   "execution_count": 69,
   "metadata": {},
   "outputs": [
    {
     "name": "stdout",
     "output_type": "stream",
     "text": [
      "enter a number36\n",
      "6.0\n"
     ]
    }
   ],
   "source": [
    "a=int(input(\"enter a number\"))\n",
    "def sqrt(a):\n",
    "    x=a**0.5\n",
    "    print(x)\n",
    "sqrt(a)\n",
    "\n"
   ]
  },
  {
   "cell_type": "code",
   "execution_count": null,
   "metadata": {},
   "outputs": [],
   "source": []
  }
 ],
 "metadata": {
  "kernelspec": {
   "display_name": "Python 3",
   "language": "python",
   "name": "python3"
  },
  "language_info": {
   "codemirror_mode": {
    "name": "ipython",
    "version": 3
   },
   "file_extension": ".py",
   "mimetype": "text/x-python",
   "name": "python",
   "nbconvert_exporter": "python",
   "pygments_lexer": "ipython3",
   "version": "3.7.3"
  }
 },
 "nbformat": 4,
 "nbformat_minor": 2
}
